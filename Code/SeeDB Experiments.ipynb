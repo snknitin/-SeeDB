{
 "cells": [
  {
   "cell_type": "code",
   "execution_count": 1,
   "metadata": {},
   "outputs": [],
   "source": [
    "# a bit of setup, as usual\n",
    "import time\n",
    "\n",
    "import psycopg2 as ps\n",
    "import psycopg2.extras as e\n",
    "\n",
    "import numpy as np\n",
    "import matplotlib.pyplot as plt\n",
    "%matplotlib inline "
   ]
  },
  {
   "cell_type": "markdown",
   "metadata": {},
   "source": [
    "## Visualization\n",
    "First, let's connect to the Census dataset and plot some examples visualizations (views)"
   ]
  },
  {
   "cell_type": "code",
   "execution_count": 2,
   "metadata": {
    "collapsed": true
   },
   "outputs": [],
   "source": [
    "# connect to Census database\n",
    "con = ps.connect(\"dbname='seedb' user='dthai' host='localhost' password=''\")\n",
    "cur = con.cursor()\n",
    "\n",
    "# capital gain group-by sex for the target data (married)\n",
    "query = \"SELECT sex, avg(capital_gain) FROM census WHERE marital_status in (' Married-AF-spouse', ' Married-civ-spouse', ' Married-spouse-absent',' Separated') GROUP BY sex;\"\n",
    "cur.execute(query)\n",
    "target_rows = cur.fetchall()\n",
    "\n",
    "# capital gain group-by sex for the reference data (unmarried)\n",
    "query = \"SELECT sex, avg(capital_gain) FROM census WHERE marital_status in (' Never-married', ' Widowed',' Divorced') GROUP BY sex;\"\n",
    "cur.execute(query)\n",
    "ref_rows = cur.fetchall()"
   ]
  },
  {
   "cell_type": "code",
   "execution_count": 8,
   "metadata": {},
   "outputs": [
    {
     "data": {
      "image/png": "[encoded data removed]",
      "text/plain": [
       "<matplotlib.figure.Figure at 0x10e9c05f8>"
      ]
     },
     "metadata": {},
     "output_type": "display_data"
    }
   ],
   "source": [
    "target_data = dict(target_rows)\n",
    "ref_data = dict(ref_rows)\n",
    "\n",
    "n_groups = len(target_data)\n",
    "\n",
    "means_frank = target_data.values()\n",
    "means_guido = ref_data.values()\n",
    " \n",
    "# create plot\n",
    "fig, ax = plt.subplots()\n",
    "index = np.arange(n_groups)\n",
    "bar_width = 0.35\n",
    "opacity = 0.8\n",
    " \n",
    "rects1 = plt.bar(index, means_frank, bar_width,\n",
    "                 alpha=opacity,\n",
    "                 color='b',\n",
    "                 label='Female')\n",
    " \n",
    "rects2 = plt.bar(index + bar_width, means_guido, bar_width,\n",
    "                 alpha=opacity,\n",
    "                 color='g',\n",
    "                 label='Male')\n",
    " \n",
    "plt.xlabel('Sex')\n",
    "plt.ylabel('AVG(capital gain)')\n",
    "plt.title('Capital gain by sex for married and unmarried.')\n",
    "plt.xticks(index + bar_width, target_data.keys())\n",
    "plt.legend()\n",
    " \n",
    "plt.tight_layout()\n",
    "plt.show()"
   ]
  },
  {
   "cell_type": "code",
   "execution_count": 5,
   "metadata": {},
   "outputs": [
    {
     "data": {
      "text/plain": [
       "{' Female': 403.919852232573, ' Male': 621.721987136087}"
      ]
     },
     "execution_count": 5,
     "metadata": {},
     "output_type": "execute_result"
    }
   ],
   "source": [
    "dict(ref_rows)"
   ]
  },
  {
   "cell_type": "code",
   "execution_count": 6,
   "metadata": {},
   "outputs": [
    {
     "data": {
      "text/plain": [
       "{' Female': 1169.38770053476, ' Male': 1725.75760775655}"
      ]
     },
     "execution_count": 6,
     "metadata": {},
     "output_type": "execute_result"
    }
   ],
   "source": [
    "dict(target_rows)"
   ]
  }
 ],
 "metadata": {
  "kernelspec": {
   "display_name": "Python 3",
   "language": "python",
   "name": "python3"
  },
  "language_info": {
   "codemirror_mode": {
    "name": "ipython",
    "version": 3
   },
   "file_extension": ".py",
   "mimetype": "text/x-python",
   "name": "python",
   "nbconvert_exporter": "python",
   "pygments_lexer": "ipython3",
   "version": "3.6.1"
  }
 },
 "nbformat": 4,
 "nbformat_minor": 2
}
