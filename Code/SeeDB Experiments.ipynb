{
 "cells": [
  {
   "cell_type": "code",
   "execution_count": 1,
   "metadata": {},
   "outputs": [],
   "source": [
    "# a bit of setup, as usual\n",
    "import psycopg2 as ps\n",
    "import psycopg2.extras as e\n",
    "\n",
    "import numpy as np\n",
    "import pandas as pd\n",
    "import matplotlib.pyplot as plt\n",
    "%matplotlib inline \n",
    "\n",
    "from itertools import product"
   ]
  },
  {
   "cell_type": "markdown",
   "metadata": {},
   "source": [
    "# Visualization\n",
    "First, let's connect to the Census dataset and plot some examples visualizations (views)"
   ]
  },
  {
   "cell_type": "code",
   "execution_count": 2,
   "metadata": {},
   "outputs": [
    {
     "data": {
      "image/png": "[encoded data removed]",
      "text/plain": [
       "<matplotlib.figure.Figure at 0x105edd9b0>"
      ]
     },
     "metadata": {},
     "output_type": "display_data"
    },
    {
     "name": "stdout",
     "output_type": "stream",
     "text": [
      "CPU times: user 342 ms, sys: 67.3 ms, total: 410 ms\n",
      "Wall time: 791 ms\n"
     ]
    }
   ],
   "source": [
    "%%time\n",
    "\n",
    "# connect to Census database\n",
    "con = ps.connect(\"dbname='seedb' user='dthai' host='localhost' password=''\")\n",
    "cur = con.cursor()\n",
    "\n",
    "# create view \n",
    "query = \"\"\"create view married as \n",
    "                   select * from census where marital_status in (' Married-AF-spouse', ' Married-civ-spouse', ' Married-spouse-absent',' Separated');\n",
    "               create view unmarried as \n",
    "                   select * from census where marital_status in (' Never-married', ' Widowed',' Divorced');\"\"\"\n",
    "cur.execute(query)\n",
    "con.commit()\n",
    "\n",
    "# capital gain group-by sex for the target data (married)\n",
    "query = \"SELECT sex, avg(capital_gain) FROM married GROUP BY sex;\"\n",
    "cur.execute(query)\n",
    "target_rows = cur.fetchall()\n",
    "\n",
    "# capital gain group-by sex for the reference data (unmarried)\n",
    "query = \"SELECT sex, avg(capital_gain) FROM unmarried GROUP BY sex;\"\n",
    "cur.execute(query)\n",
    "ref_rows = cur.fetchall()\n",
    "\n",
    "# util function to plot the view \n",
    "def visualize(target_data, ref_data, view_tuple):\n",
    "    n_groups = len(target_data)\n",
    "    group_by, measure, function = view_tuple\n",
    "\n",
    "    means_target = target_data.values()\n",
    "    means_ref = ref_data.values()\n",
    "\n",
    "    # create plot\n",
    "    fig, ax = plt.subplots()\n",
    "    index = np.arange(n_groups)\n",
    "    bar_width = 0.35\n",
    "    opacity = 0.8\n",
    "\n",
    "    rects1 = plt.bar(index, means_target, bar_width,\n",
    "                     alpha=opacity,\n",
    "                     color='b',\n",
    "                     label='married')\n",
    "\n",
    "    rects2 = plt.bar(index + bar_width, means_ref, bar_width,\n",
    "                     alpha=opacity,\n",
    "                     color='g',\n",
    "                     label='unmarried')\n",
    "\n",
    "    plt.xlabel('{}'.format(group_by))\n",
    "    plt.ylabel('{}({})'.format(function, measure))\n",
    "    plt.xticks(index + bar_width, target_data.keys())\n",
    "    plt.legend()\n",
    "\n",
    "    plt.tight_layout()\n",
    "    plt.show()\n",
    "\n",
    "# visualize it!\n",
    "view_tuple = ('sex', 'capital_gain', 'AVG')\n",
    "visualize(dict(target_rows), dict(ref_rows), view_tuple)"
   ]
  },
  {
   "cell_type": "markdown",
   "metadata": {},
   "source": [
    "# The phased-execution framework\n",
    "\n",
    "We partition the Census dataset into 5 parts, corresponding to 5 phases. For each partitition, we create views for target (married) and reference (unmarried)."
   ]
  },
  {
   "cell_type": "code",
   "execution_count": 3,
   "metadata": {
    "collapsed": true
   },
   "outputs": [],
   "source": [
    "n_phases = 5\n",
    "\n",
    "for i in range(n_phases):\n",
    "    query = \"\"\"create view s{}_married as \n",
    "                   select * from split{} where marital_status in (' Married-AF-spouse', ' Married-civ-spouse', ' Married-spouse-absent',' Separated');\n",
    "               create view s{}_unmarried as \n",
    "                   select * from split{} where marital_status in (' Never-married', ' Widowed',' Divorced');\"\"\".format(i+1,i+1,i+1,i+1)\n",
    "    cur.execute(query)\n",
    "    con.commit()"
   ]
  },
  {
   "cell_type": "markdown",
   "metadata": {},
   "source": [
    "## Sharing-based Optimizations"
   ]
  },
  {
   "cell_type": "code",
   "execution_count": 31,
   "metadata": {},
   "outputs": [
    {
     "name": "stdout",
     "output_type": "stream",
     "text": [
      "Total number of visualizations: 200.\n"
     ]
    }
   ],
   "source": [
    "functions = [\"avg\", \"sum\", \"min\", \"max\", \"count\"]\n",
    "attributes = [\"workclass\", \"education\", \"occupation\", \"relationship\", \"race\", \"sex\", \"native_country\", \"economic_indicator\"]\n",
    "measurements = [\"age\", \"fnlwgt\", \"hours_per_week\", \"capital_gain\", \"capital_loss\"]\n",
    "\n",
    "views = {k: v for k,v in enumerate(list(product(functions, measurements, attributes)))}\n",
    "print('Total number of visualizations: {}.'.format(len(views)))"
   ]
  },
  {
   "cell_type": "code",
   "execution_count": 122,
   "metadata": {},
   "outputs": [
    {
     "name": "stdout",
     "output_type": "stream",
     "text": [
      "CPU times: user 11.6 ms, sys: 2.35 ms, total: 14 ms\n",
      "Wall time: 1.96 s\n"
     ]
    }
   ],
   "source": [
    "%%time\n",
    "\n",
    "def sharing_based_query(views, tables):\n",
    "    # combine multiple aggregates and multiple group-by\n",
    "    select_a_str = []\n",
    "    select_m_str = []\n",
    "    group_by_str = []\n",
    "    for i, (f, m, a) in views.items():\n",
    "        select_a_str.append('{}'.format(a))\n",
    "        select_m_str.append('{}({}) as v{}'.format(f, m, i))\n",
    "        group_by_str.append('({})'.format(a))\n",
    "\n",
    "    select_a_str = ', '.join(set(select_a_str))\n",
    "    select_m_str = ', '.join(select_m_str)\n",
    "    group_by_str = ', '.join(set(group_by_str))\n",
    "\n",
    "    data = []\n",
    "    for table in tables:\n",
    "        query = \"\"\"select {}, {} from {} group by grouping sets ({});\"\"\".format(select_a_str, select_m_str, table, group_by_str)\n",
    "        cur.execute(query)\n",
    "        data.append(cur.fetchall())\n",
    "    cols = [desc[0] for desc in cur.description]\n",
    "    return data, cols\n",
    "\n",
    "tables = ['married', 'unmarried']\n",
    "data, cols = sharing_based_query(views, tables)"
   ]
  },
  {
   "cell_type": "code",
   "execution_count": 131,
   "metadata": {},
   "outputs": [
    {
     "name": "stdout",
     "output_type": "stream",
     "text": [
      "160 count age workclass 2.78193805489\n",
      "160 count age workclass 0.546491980922\n",
      "160 count age workclass 0.577855079248\n",
      "160 count age workclass 0.0623353958171\n",
      "160 count age workclass 0.0778762412213\n",
      "CPU times: user 2.42 s, sys: 57.9 ms, total: 2.47 s\n",
      "Wall time: 2.79 s\n"
     ]
    }
   ],
   "source": [
    "%%time\n",
    "\n",
    "# different types of distribution w.r.t. the aggregate functions\n",
    "distribution2type = {'count': 'multinomial', 'sum': 'gaussian', 'avg': 'gaussian', 'min': 'gumbel', 'max': 'gumbel'}\n",
    "\n",
    "def multinomial_kl(tgt, ref):\n",
    "    return -np.sum([qi * np.log(pi/qi) for qi, pi in zip(tgt, ref)])\n",
    "\n",
    "def gaussian_kl(tgt, ref):\n",
    "    pass\n",
    "\n",
    "def gumble_kl(tgt, ref):\n",
    "    pass\n",
    "\n",
    "# KL-Divergence(target, reference)\n",
    "def kl_divergence(target_df, reference_df, distribution_type):\n",
    "    tgt = target_df.values.reshape(-1)\n",
    "    ref = reference_df.values.reshape(-1)\n",
    "    \n",
    "    if distribution_type == 'multinomial':\n",
    "        tgt_prob = tgt / np.sum(tgt)\n",
    "        ref_prob = ref / np.sum(ref)\n",
    "        return multinomial_kl(tgt_prob, ref_prob)\n",
    "    return None\n",
    "\n",
    "for i in range(n_phases):\n",
    "    tables = ['s{}_married'.format(i+1), 's{}_unmarried'.format(i+1)]\n",
    "    data, cols = sharing_based_query(views, tables)\n",
    "    \n",
    "    tgt_df = pd.DataFrame(data[0], columns=cols)\n",
    "    ref_df = pd.DataFrame(data[1], columns=cols)\n",
    "    \n",
    "    for i, (f, m, a) in views.items():\n",
    "        tgt = tgt_df.loc[tgt_df[a].notnull(), ['v{}'.format(i)]]\n",
    "        ref = ref_df.loc[ref_df[a].notnull(), ['v{}'.format(i)]]\n",
    "        \n",
    "        score = kl_divergence(tgt, ref, distribution2type[f])\n",
    "        if score is not None:\n",
    "            print(i, f, m, a, score)\n",
    "            break"
   ]
  },
  {
   "cell_type": "code",
   "execution_count": 126,
   "metadata": {},
   "outputs": [],
   "source": [
    "tgt_df = pd.DataFrame(data[0], columns=cols)\n",
    "ref_df = pd.DataFrame(data[1], columns=cols)\n",
    "    \n",
    "i, f, m, a = 160, 'count', 'age', 'workclass'\n",
    "tgt = tgt_df.loc[tgt_df[a].notnull(), ['v{}'.format(i)]]\n",
    "ref = ref_df.loc[ref_df[a].notnull(), ['v{}'.format(i)]]"
   ]
  }
 ],
 "metadata": {
  "kernelspec": {
   "display_name": "Python 3",
   "language": "python",
   "name": "python3"
  },
  "language_info": {
   "codemirror_mode": {
    "name": "ipython",
    "version": 3
   },
   "file_extension": ".py",
   "mimetype": "text/x-python",
   "name": "python",
   "nbconvert_exporter": "python",
   "pygments_lexer": "ipython3",
   "version": "3.6.1"
  }
 },
 "nbformat": 4,
 "nbformat_minor": 2
}
